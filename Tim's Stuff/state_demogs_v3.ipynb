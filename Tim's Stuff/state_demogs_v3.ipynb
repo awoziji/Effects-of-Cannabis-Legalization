{
 "cells": [
  {
   "cell_type": "code",
   "execution_count": 1,
   "metadata": {},
   "outputs": [],
   "source": [
    "# Import all the actual code, this takes a while.\n",
    "from functions import *"
   ]
  },
  {
   "cell_type": "markdown",
   "metadata": {},
   "source": [
    "<h1>Guide</h1> <br>\n",
    "<br>\n",
    "<big>This notebook no longer has code in it.  Instead, use this for searching through data.</big><br>\n",
    "<big>To see the actual code, see functions.py</big><br>\n",
    "<br>\n",
    "<big><b>Useful functions</b></big> (detailed explanations and examples below): <br>\n",
    "<b>urban_slice</b>(df, target_state, high, low) <br>\n",
    "<b>total_graph</b>(df, area)<br>\n",
    "<b>age_graph</b>(df, area, threshold)<br>\n",
    "<b>avg_age_graph</b>(df)<br>\n",
    "<b>avg_pop_from_dict</b>(dictionary, high, low)<br>\n",
    "<b>avg_pop_change_from_dict</b>(dictionary, high, low)<br>\n",
    "<br>\n",
    "You can pass functions in other functions(examples below)<br>\n",
    "<br>\n",
    "You can use any function with any state's dataframe, using stateabbreviation_df (e.g. co_df for Colorado)<br>\n",
    "<br>\n",
    "You can also iterate through groups of states.  The current groups are: <br>\n",
    "<br>\n",
    "All states where cannabis is currently illegal: <br>\n",
    "<b>state_dict1</b><br>\n",
    "<b>state_dict2</b><br>\n",
    "<b>state_dict3</b><br>\n",
    "(Jupyter Notebook will only generate ~20 plots at a time, so I had to arbitrarily split them up)<br>\n",
    "<br>\n",
    "States that legalized in 2012:<br>\n",
    "<b>state_dict_2012</b><br>\n",
    "<br>\n",
    "States that legalized in 2014:<br>\n",
    "<b>state_dict_2014</b><br>\n",
    "<br>\n",
    "States that legalized in 2016:<br>\n",
    "<b>state_dict_2016</b><br>\n",
    "<br>\n",
    "And states that are expected to legalize in 2018: <br>\n",
    "<b>state_dict_2018</b><br>\n",
    "<br>\n",
    "The keys in each of these dictionaries are the name of the state ('Colorado') and the values are the dataframes (co_df)"
   ]
  },
  {
   "cell_type": "markdown",
   "metadata": {},
   "source": [
    "<big><big><b> Functions: </b></big></big>\n",
    "\n",
    "<big>Function:  urban_slice </big><br>\n",
    "Return a slice of the state dataframe only containing counties with a certain \"urban percentage\".\n",
    "\n",
    "arguments:  (df, target_state, high, low) <br>\n",
    "df           =   Name of state's dataframe (e.g. co_df for colorado, ak_df for alaska) <br>\n",
    "target_state =   State name in the form of a string (e.g. 'Colorado', 'Alaska') <br>\n",
    "high         =   Upper-boundary of \"urban percentage\"<br>\n",
    "low          =   Lower-boundary of \"urban percentage\""
   ]
  },
  {
   "cell_type": "code",
   "execution_count": null,
   "metadata": {},
   "outputs": [],
   "source": [
    "# Example\n",
    "example = urban_slice(or_df, 'Oregon', 75, 50)\n",
    "example.head()"
   ]
  },
  {
   "cell_type": "markdown",
   "metadata": {},
   "source": [
    "<big><big><b>Function:  total_graph</b></big></big><br>\n",
    "Generates a plot of total population over 2010-2016.  Not very useful unless used along with urban_slice.\n",
    "\n",
    "arguments:  (df, area) <br>\n",
    "df           =   Name of state's dataframe (e.g. co_df for colorado, ak_df for alaska) <br>\n",
    "area         =   Name of the area.  This will only appear in the title of the plot and doesn't matter much"
   ]
  },
  {
   "cell_type": "code",
   "execution_count": null,
   "metadata": {},
   "outputs": [],
   "source": [
    "# Example\n",
    "total_graph(co_df, \"'Rado, Dude\")"
   ]
  },
  {
   "cell_type": "code",
   "execution_count": null,
   "metadata": {},
   "outputs": [],
   "source": [
    "# Much better example\n",
    "total_graph(urban_slice(co_df, 'Colorado', 40, 20), \"the rural parts of 'Rado, Derd\")"
   ]
  },
  {
   "cell_type": "markdown",
   "metadata": {},
   "source": [
    "<big><big><b>Function:  age_graph</b></big></big><br>\n",
    "Generate a plot of population change over 2010-2016, separated by age group.\n",
    "\n",
    "arguments:  (df, area, threshold) <br>\n",
    "df           =   Name of state's dataframe (e.g. co_df for colorado, ak_df for alaska) <br>\n",
    "area         =   Same as the total_graph function. Just for the plot title, doesn't matter much. <br>\n",
    "threshold    =   This allows you to limit how many lines are drawn on the plot.  If you only want to see lines where the change in population over the 6 years (positive or negative) is %20, you would input 20 here."
   ]
  },
  {
   "cell_type": "code",
   "execution_count": null,
   "metadata": {},
   "outputs": [],
   "source": [
    "# Example\n",
    "age_graph(ak_df, 'Alaska', 15)"
   ]
  },
  {
   "cell_type": "markdown",
   "metadata": {},
   "source": [
    "<big><big><b>Function:  avg_age_graph</b></big></big><br>\n",
    "Generate a plot of average age over 2010-2016.\n",
    "\n",
    "arguments:  (df) <br>\n",
    "df           =   Name of state's dataframe (e.g. co_df for colorado, ak_df for alaska) <br>\n"
   ]
  },
  {
   "cell_type": "code",
   "execution_count": null,
   "metadata": {},
   "outputs": [],
   "source": [
    "# Example\n",
    "avg_age_graph(urban_slice(wa_df, 'Washington', 50, 25))"
   ]
  },
  {
   "cell_type": "markdown",
   "metadata": {},
   "source": [
    "<big><big><b>Iterating through dictionaries</b></big></big><br>\n",
    "Just some examples.  Nothing too special here."
   ]
  },
  {
   "cell_type": "code",
   "execution_count": null,
   "metadata": {
    "scrolled": false
   },
   "outputs": [],
   "source": [
    "# Iteration example\n",
    "for key in state_dict3:\n",
    "    high = 40\n",
    "    low = 0\n",
    "    try:\n",
    "        total_graph(urban_slice(state_dict3[key], key, high, low), f\"{key} in counties with urban percentage between {low} and {high} \")\n",
    "    except:\n",
    "        print(f'Error with {key}')"
   ]
  },
  {
   "cell_type": "code",
   "execution_count": null,
   "metadata": {
    "scrolled": false
   },
   "outputs": [],
   "source": [
    "# Another iteration example\n",
    "for key in state_dict_2012:\n",
    "    try:\n",
    "        high = 100\n",
    "        low = 90\n",
    "        age_graph(urban_slice(state_dict_2012[key], key, high, low), key, 15)\n",
    "    except:\n",
    "        print(f'error with {key}')"
   ]
  },
  {
   "cell_type": "markdown",
   "metadata": {},
   "source": [
    "<big><big><b>Function:  avg_pop_from_dict</b></big></big><br>\n",
    "Generate a plot of average of total pops in ALL states in a given dictionary with a given urban percentage\n",
    "\n",
    "arguments:  (dictionary, high, low) <br>\n",
    "dictionary   =   Name of dictionary you would like to plot (e.g. state_dict1, state_dict_2012) <br>\n",
    "high         =   Upper-boundary of \"urban percentage\"<br>\n",
    "low          =   Lower-boundary of \"urban percentage\""
   ]
  },
  {
   "cell_type": "code",
   "execution_count": null,
   "metadata": {},
   "outputs": [],
   "source": [
    "# Example\n",
    "avg_pop_from_dict(state_dict_2012, 40, 0)"
   ]
  },
  {
   "cell_type": "markdown",
   "metadata": {},
   "source": [
    "<big><big><b>Function:  avg_pop_change_from_dict</b></big></big><br>\n",
    "Same as last one, but goes by change in population rather than raw pop numbers.  Pay close attention to the y axis!\n",
    "\n",
    "arguments:  (dictionary, high, low) <br>\n",
    "dictionary   =   Name of dictionary you would like to plot (e.g. state_dict1, state_dict_2012) <br>\n",
    "high         =   Upper-boundary of \"urban percentage\"<br>\n",
    "low          =   Lower-boundary of \"urban percentage\""
   ]
  },
  {
   "cell_type": "code",
   "execution_count": null,
   "metadata": {},
   "outputs": [],
   "source": [
    "# Example\n",
    "avg_pop_change_from_dict(state_dict_2012, 40, 0)"
   ]
  },
  {
   "cell_type": "markdown",
   "metadata": {},
   "source": [
    "<h1>You can get rid of everything below this for room, but I think it's interesting</h1>"
   ]
  },
  {
   "cell_type": "code",
   "execution_count": null,
   "metadata": {},
   "outputs": [],
   "source": [
    "avg_pop_from_dict(state_dict_2012, 40, 0)"
   ]
  },
  {
   "cell_type": "code",
   "execution_count": null,
   "metadata": {},
   "outputs": [],
   "source": [
    "avg_pop_from_dict(state_dict_2014, 40, 0)"
   ]
  },
  {
   "cell_type": "code",
   "execution_count": null,
   "metadata": {},
   "outputs": [],
   "source": [
    "avg_pop_from_dict(state_dict_2016, 40, 0)"
   ]
  },
  {
   "cell_type": "code",
   "execution_count": null,
   "metadata": {},
   "outputs": [],
   "source": [
    "avg_pop_from_dict(state_dict_2018, 40, 0)"
   ]
  },
  {
   "cell_type": "code",
   "execution_count": null,
   "metadata": {},
   "outputs": [],
   "source": [
    "avg_pop_from_dict(state_dict1, 40, 0)"
   ]
  },
  {
   "cell_type": "code",
   "execution_count": null,
   "metadata": {},
   "outputs": [],
   "source": [
    "avg_pop_from_dict(state_dict2, 40, 0)"
   ]
  },
  {
   "cell_type": "code",
   "execution_count": null,
   "metadata": {},
   "outputs": [],
   "source": [
    "avg_pop_from_dict(state_dict3, 40, 0)"
   ]
  },
  {
   "cell_type": "code",
   "execution_count": 3,
   "metadata": {},
   "outputs": [
    {
     "name": "stdout",
     "output_type": "stream",
     "text": [
      "Alabama\n",
      "Arizona\n",
      "Arkansas\n",
      "There are no entries in Connecticut for an urban percentage between 0 and 40\n",
      "There are no entries in Delaware for an urban percentage between 0 and 40\n",
      "Florida\n",
      "Georgia\n",
      "There are no entries in Hawaii for an urban percentage between 0 and 40\n",
      "Idaho\n",
      "Illinois\n",
      "Indiana\n",
      "Iowa\n",
      "Kansas\n",
      "Kentucky\n",
      "ValueError in Louisiana\n",
      "Montana\n",
      "Nebraska\n",
      "New Hampshire\n",
      "There are no entries in New Jersey for an urban percentage between 0 and 40\n",
      "New Mexico\n",
      "New York\n",
      "North Carolina\n",
      "North Dakota\n",
      "Ohio\n",
      "Oklahoma\n",
      "Maryland\n",
      "Michigan\n",
      "Minnesota\n",
      "Mississippi\n",
      "Missouri\n",
      "Pennsylvania\n",
      "There are no entries in Rhode Island for an urban percentage between 0 and 40\n",
      "South Carolina\n",
      "South Dakota\n",
      "Tennessee\n",
      "Texas\n",
      "Utah\n",
      "Vermont\n",
      "ValueError in Virginia\n",
      "West Virginia\n",
      "Wisconsin\n",
      "Wyoming\n"
     ]
    },
    {
     "data": {
      "image/png": "[encoded data removed]",
      "text/plain": [
       "<matplotlib.figure.Figure at 0x19a5752f8d0>"
      ]
     },
     "metadata": {},
     "output_type": "display_data"
    }
   ],
   "source": [
    "avg_pop_from_dict(state_dict_illegal, 40, 0)"
   ]
  },
  {
   "cell_type": "code",
   "execution_count": 2,
   "metadata": {},
   "outputs": [
    {
     "name": "stdout",
     "output_type": "stream",
     "text": [
      "Colorado\n",
      "Washington\n",
      "Alaska\n",
      "There are no entries in District of Columbia for an urban percentage between 0 and 40\n",
      "Oregon\n",
      "California\n",
      "ValueError in Maine\n",
      "Nevada\n",
      "There are no entries in Massachusetts for an urban percentage between 0 and 40\n"
     ]
    },
    {
     "data": {
      "image/png": "[encoded data removed]",
      "text/plain": [
       "<matplotlib.figure.Figure at 0x19a57e46358>"
      ]
     },
     "metadata": {},
     "output_type": "display_data"
    }
   ],
   "source": [
    "avg_pop_from_dict(state_dict_legal, 40, 0)"
   ]
  },
  {
   "cell_type": "code",
   "execution_count": null,
   "metadata": {},
   "outputs": [],
   "source": []
  },
  {
   "cell_type": "code",
   "execution_count": null,
   "metadata": {},
   "outputs": [],
   "source": [
    "avg_pop_change_from_dict(state_dict_2012, 40, 0)"
   ]
  },
  {
   "cell_type": "code",
   "execution_count": null,
   "metadata": {},
   "outputs": [],
   "source": [
    "avg_pop_change_from_dict(state_dict_2014, 40, 0)"
   ]
  },
  {
   "cell_type": "code",
   "execution_count": null,
   "metadata": {},
   "outputs": [],
   "source": [
    "avg_pop_change_from_dict(state_dict_2016, 40, 0)"
   ]
  },
  {
   "cell_type": "code",
   "execution_count": null,
   "metadata": {},
   "outputs": [],
   "source": [
    "avg_pop_change_from_dict(state_dict_2018, 40, 0)"
   ]
  },
  {
   "cell_type": "code",
   "execution_count": null,
   "metadata": {},
   "outputs": [],
   "source": [
    "avg_pop_change_from_dict(state_dict1, 40, 0)"
   ]
  },
  {
   "cell_type": "code",
   "execution_count": null,
   "metadata": {},
   "outputs": [],
   "source": [
    "avg_pop_change_from_dict(state_dict2, 40, 0)"
   ]
  },
  {
   "cell_type": "code",
   "execution_count": null,
   "metadata": {},
   "outputs": [],
   "source": [
    "avg_pop_change_from_dict(state_dict3, 40, 0)"
   ]
  },
  {
   "cell_type": "code",
   "execution_count": 4,
   "metadata": {},
   "outputs": [
    {
     "name": "stdout",
     "output_type": "stream",
     "text": [
      "Alabama\n",
      "Arizona\n",
      "Arkansas\n",
      "There are no entries in Connecticut for an urban percentage between 0 and 40\n",
      "There are no entries in Delaware for an urban percentage between 0 and 40\n",
      "Florida\n",
      "Georgia\n",
      "There are no entries in Hawaii for an urban percentage between 0 and 40\n",
      "Idaho\n",
      "Illinois\n",
      "Indiana\n",
      "Iowa\n",
      "Kansas\n",
      "Kentucky\n",
      "ValueError in Louisiana\n",
      "Montana\n",
      "Nebraska\n",
      "New Hampshire\n",
      "There are no entries in New Jersey for an urban percentage between 0 and 40\n",
      "New Mexico\n",
      "New York\n",
      "North Carolina\n",
      "North Dakota\n",
      "Ohio\n",
      "Oklahoma\n",
      "Maryland\n",
      "Michigan\n",
      "Minnesota\n",
      "Mississippi\n",
      "Missouri\n",
      "Pennsylvania\n",
      "There are no entries in Rhode Island for an urban percentage between 0 and 40\n",
      "South Carolina\n",
      "South Dakota\n",
      "Tennessee\n",
      "Texas\n",
      "Utah\n",
      "Vermont\n",
      "ValueError in Virginia\n",
      "West Virginia\n",
      "Wisconsin\n",
      "Wyoming\n"
     ]
    },
    {
     "data": {
      "image/png": "[encoded data removed]",
      "text/plain": [
       "<matplotlib.figure.Figure at 0x19a5754e940>"
      ]
     },
     "metadata": {},
     "output_type": "display_data"
    }
   ],
   "source": [
    "avg_pop_change_from_dict(state_dict_illegal, 40, 0)"
   ]
  },
  {
   "cell_type": "code",
   "execution_count": 5,
   "metadata": {},
   "outputs": [
    {
     "name": "stdout",
     "output_type": "stream",
     "text": [
      "Colorado\n",
      "Washington\n",
      "Alaska\n",
      "There are no entries in District of Columbia for an urban percentage between 0 and 40\n",
      "Oregon\n",
      "California\n",
      "ValueError in Maine\n",
      "Nevada\n",
      "There are no entries in Massachusetts for an urban percentage between 0 and 40\n"
     ]
    },
    {
     "data": {
      "image/png": "[encoded data removed]",
      "text/plain": [
       "<matplotlib.figure.Figure at 0x19a5781b128>"
      ]
     },
     "metadata": {},
     "output_type": "display_data"
    }
   ],
   "source": [
    "avg_pop_change_from_dict(state_dict_legal, 40, 0)"
   ]
  },
  {
   "cell_type": "code",
   "execution_count": null,
   "metadata": {},
   "outputs": [],
   "source": []
  }
 ],
 "metadata": {
  "kernelspec": {
   "display_name": "Python 3",
   "language": "python",
   "name": "python3"
  },
  "language_info": {
   "codemirror_mode": {
    "name": "ipython",
    "version": 3
   },
   "file_extension": ".py",
   "mimetype": "text/x-python",
   "name": "python",
   "nbconvert_exporter": "python",
   "pygments_lexer": "ipython3",
   "version": "3.6.4"
  }
 },
 "nbformat": 4,
 "nbformat_minor": 2
}
